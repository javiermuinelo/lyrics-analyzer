{
 "cells": [
  {
   "cell_type": "code",
   "execution_count": 79,
   "metadata": {},
   "outputs": [],
   "source": [
    "from sentence_transformers import SentenceTransformer\n",
    "import torch\n",
    "import numpy as np\n",
    "import pandas as pd"
   ]
  },
  {
   "cell_type": "code",
   "execution_count": 80,
   "metadata": {},
   "outputs": [],
   "source": [
    "model = SentenceTransformer('all-MiniLM-L6-v2')"
   ]
  },
  {
   "cell_type": "code",
   "execution_count": 3,
   "metadata": {},
   "outputs": [],
   "source": [
    "data = pd.read_csv('../../data/processed/english_lyrics_cleaned.csv')"
   ]
  },
  {
   "cell_type": "code",
   "execution_count": 4,
   "metadata": {},
   "outputs": [
    {
     "data": {
      "text/plain": [
       "artist\n",
       "Genius English Translations    13582\n",
       "The Grateful Dead               2103\n",
       "Emily Dickinson                 1617\n",
       "Abraham Lincoln                 1488\n",
       "Lil B                           1280\n",
       "Frank Zappa                     1255\n",
       "William Shakespeare             1228\n",
       "KIDZ BOP Kids                   1194\n",
       "Guided by Voices                1187\n",
       "Holy Bible (KJV)                1186\n",
       "Name: count, dtype: int64"
      ]
     },
     "execution_count": 4,
     "metadata": {},
     "output_type": "execute_result"
    }
   ],
   "source": [
    "# show the 10 most common artists\n",
    "data['artist'].value_counts().head(10)\n"
   ]
  },
  {
   "cell_type": "code",
   "execution_count": 5,
   "metadata": {},
   "outputs": [
    {
     "data": {
      "text/plain": [
       "804"
      ]
     },
     "execution_count": 5,
     "metadata": {},
     "output_type": "execute_result"
    }
   ],
   "source": [
    "# find how many songs have the artist 'the beatles'\n",
    "data[data[\"artist\"] == \"Prince\"][\"title\"].nunique()"
   ]
  },
  {
   "cell_type": "code",
   "execution_count": 4,
   "metadata": {},
   "outputs": [],
   "source": [
    "# prolifically produced artists (< 200 songs) that write their own songs (selected by hand)\n",
    "anchor_artists = [\n",
    "    \"The Beatles\",\n",
    "    \"Queen\",\n",
    "    \"Bob Dylan\",\n",
    "    \"Taylor Swift\",\n",
    "    \"Ed Sheeran\",\n",
    "    \"Demi Lovato\",\n",
    "    \"Sia\",\n",
    "    \"Eminem\",\n",
    "    \"Johnny Cash\",\n",
    "    \"Lady Gaga\",\n",
    "    \"Kanye West\",\n",
    "    \"Prince\",\n",
    "]\n",
    "anchor_artist_data = data[data[\"artist\"].isin(anchor_artists)]"
   ]
  },
  {
   "cell_type": "code",
   "execution_count": 5,
   "metadata": {},
   "outputs": [
    {
     "data": {
      "text/plain": [
       "256"
      ]
     },
     "execution_count": 5,
     "metadata": {},
     "output_type": "execute_result"
    }
   ],
   "source": [
    "model.get_max_seq_length()"
   ]
  },
  {
   "cell_type": "code",
   "execution_count": 8,
   "metadata": {},
   "outputs": [
    {
     "name": "stderr",
     "output_type": "stream",
     "text": [
      "Token indices sequence length is longer than the specified maximum sequence length for this model (886 > 256). Running this sequence through the model will result in indexing errors\n"
     ]
    },
    {
     "data": {
      "text/plain": [
       "np.float64(334.4970204541794)"
      ]
     },
     "execution_count": 8,
     "metadata": {},
     "output_type": "execute_result"
    }
   ],
   "source": [
    "# average token length of anchor artists\n",
    "tokenizer = model.tokenizer\n",
    "data[data[\"artist\"].isin(anchor_artists)][\"lyrics\"].apply(\n",
    "    lambda x: len(tokenizer.encode(x))\n",
    ").mean()"
   ]
  },
  {
   "cell_type": "code",
   "execution_count": 6,
   "metadata": {},
   "outputs": [
    {
     "name": "stderr",
     "output_type": "stream",
     "text": [
      "Processing songs: 100%|██████████| 359/359 [00:06<00:00, 52.48it/s]\n",
      "Processing songs: 100%|██████████| 862/862 [00:13<00:00, 63.13it/s]\n",
      "Processing songs: 100%|██████████| 436/436 [00:07<00:00, 60.23it/s]\n",
      "Processing songs: 100%|██████████| 446/446 [00:06<00:00, 64.55it/s]\n",
      "Processing songs: 100%|██████████| 316/316 [00:05<00:00, 54.52it/s]\n",
      "Processing songs: 100%|██████████| 762/762 [00:11<00:00, 68.66it/s]\n",
      "Processing songs: 100%|██████████| 974/974 [00:13<00:00, 69.79it/s]\n",
      "Processing songs: 100%|██████████| 492/492 [00:08<00:00, 58.92it/s]\n",
      "Processing songs: 100%|██████████| 804/804 [00:13<00:00, 61.34it/s]\n",
      "Processing songs: 100%|██████████| 258/258 [00:04<00:00, 58.89it/s]\n",
      "Processing songs: 100%|██████████| 234/234 [00:03<00:00, 60.72it/s]\n",
      "Processing songs: 100%|██████████| 266/266 [00:05<00:00, 52.10it/s]\n",
      "Processing artists: 100%|██████████| 12/12 [01:40<00:00,  8.36s/it]\n"
     ]
    }
   ],
   "source": [
    "import sys\n",
    "\n",
    "sys.path.append(\"../\")\n",
    "from features.build_features import create_artist_embeddings\n",
    "\n",
    "artist_embeddings, artists_names = create_artist_embeddings(\n",
    "    anchor_artist_data, \"./artist\"\n",
    ")"
   ]
  },
  {
   "cell_type": "code",
   "execution_count": 81,
   "metadata": {},
   "outputs": [],
   "source": [
    "import pickle\n",
    "artist_embeddings = np.load(\"../embeddings/artist_embeddings.npy\")\n",
    "artists_names = pickle.load(open(\"../embeddings/artist_names.pkl\", \"rb\"))"
   ]
  },
  {
   "cell_type": "code",
   "execution_count": 82,
   "metadata": {},
   "outputs": [
    {
     "data": {
      "text/plain": [
       "['Eminem',\n",
       " 'Bob Dylan',\n",
       " 'Kanye West',\n",
       " 'Queen',\n",
       " 'Lady Gaga',\n",
       " 'The Beatles',\n",
       " 'Johnny Cash',\n",
       " 'Taylor Swift',\n",
       " 'Prince',\n",
       " 'Ed Sheeran',\n",
       " 'Sia',\n",
       " 'Demi Lovato']"
      ]
     },
     "execution_count": 82,
     "metadata": {},
     "output_type": "execute_result"
    }
   ],
   "source": [
    "artists_names"
   ]
  },
  {
   "cell_type": "code",
   "execution_count": 41,
   "metadata": {},
   "outputs": [],
   "source": [
    "beatles_fake_lyrics = \"\"\"\n",
    "In the neon glow of midnight streets,\n",
    "I hear your whispers in the fading heat,\n",
    "Every echo brings your name to life,\n",
    "Dancing memories cut like a knife.\n",
    "Chasing shadows, where we used to run,\n",
    "Under moonlit skies, believing we were young,\n",
    "Every step forward feels like a step back,\n",
    "In the silence, I still trace the tracks.\n",
    "Worn-out pictures on my bedroom floor,\n",
    "Each smile a promise, but I want more,\n",
    "You left a mark, but the scars have faded,\n",
    "Still I wander, dreaming, feeling jaded.\n",
    "Chasing shadows, where we used to run,\n",
    "Under moonlit skies, believing we were young,\n",
    "Every step forward feels like a step back,\n",
    "In the silence, I still trace the tracks.\n",
    "But I hear the whispers, through the fallin’ rain,\n",
    "Every drop a heartbeat, singing out your name,\n",
    "Maybe one day, I’ll find the light,\n",
    "Break these chains, step into the night.\n",
    "So here I go, just a heart in the dark,\n",
    "Chasing shadows, chasing sparks,\n",
    "I’ll keep running 'til the dawn breaks free,\n",
    "In the chase, I’ll find the best of me.\n",
    "\"\"\""
   ]
  },
  {
   "cell_type": "code",
   "execution_count": 9,
   "metadata": {},
   "outputs": [],
   "source": [
    "taylor_swift_fake_lyrics = \"\"\"\n",
    "We were young with a dream and a midnight sky,\n",
    "Dancing on rooftops, trying to touch the fireflies,\n",
    "You whispered promises, like secrets in the dark,\n",
    "Every heartbeat echoed like a wild, shooting star.\n",
    "\n",
    "But seasons change, and so did we,\n",
    "Like autumn leaves falling, oh can't you see?\n",
    "But I'll hold the moments, even when they fade,\n",
    "You were my anthem, a sweet serenade.\n",
    "\n",
    "So I'm chasing starlight, running through the night,\n",
    "With every step I take, I can feel your light.\n",
    "Fingers intertwined, we were writing our story,\n",
    "In a world of chaos, you were my glory.\n",
    "Oh, I'm chasing starlight, through the twists and turns,\n",
    "In the ashes of our love, it's you that forever burns.\n",
    "\n",
    "We painted skies with laughter, wrote our names in the sand,\n",
    "With every laugh and every tear, I was your biggest fan,\n",
    "But time slipped like water, and we drifted apart,\n",
    "Yet echoes of your laughter still linger in my heart.\n",
    "\n",
    "But I'll keep the sparks, even if they fade,\n",
    "In a sepia memory, where none are betrayed.\n",
    "You were my symphony, a song so divine,\n",
    "Even in the silence, our hearts still align.\n",
    "\n",
    "So I'm chasing starlight, running through the night,\n",
    "With every step I take, I can feel your light.\n",
    "Fingers intertwined, we were writing our story,\n",
    "In a world of chaos, you were my glory.\n",
    "Oh, I'm chasing starlight, through the twists and turns,\n",
    "In the ashes of our love, it's you that forever burns.\n",
    "\n",
    "So here's to the nights when we danced in the rain,\n",
    "Through every heartbreak, through every sweet pain,\n",
    "You may be a whisper, but I'll never forget,\n",
    "The way we wrote our destiny, a love without regret.\n",
    "\n",
    "So I'm chasing starlight, running through the night,\n",
    "With every step I take, I can feel your light.\n",
    "Fingers intertwined, we were writing our story,\n",
    "In a world of chaos, you were my glory.\n",
    "Oh, I'm chasing starlight, through the twists and turns,\n",
    "In the ashes of our love, it's you that forever burns.\n",
    "\n",
    "So if you see me, looking up at the stars,\n",
    "Just know I'm still dreaming, chasing you from afar.\n",
    "In the galaxy of hearts, where love never dies,\n",
    "I'll keep chasing starlight, till the end of time.\n",
    "\"\"\""
   ]
  },
  {
   "cell_type": "code",
   "execution_count": 83,
   "metadata": {},
   "outputs": [
    {
     "data": {
      "text/plain": [
       "\"Yo, I’m boxed in a cage, rage like a lion,  \\nFighting shadows in the dark, while the world’s on fire,  \\nEvery word's a bullet, each verse a choir,  \\nSpitting venom on these tracks, fueled by desire.  \\n\\nI’m the kid in the corner, scribbling dreams,  \\nStitching seams of reality, ripping at the seams,  \\nLife’s a twisted puzzle, melting at the beams,  \\nRunning laps ‘round the block, chasing lost themes.  \\n\\nGot a mind like a weapon, loaded with regret,  \\nPushing limits, bending bars, you ain't seen nothin' yet,  \\nGraffiti on my heart, a masterpiece of threat,  \\nIn the game of chess, but I’m betting on the check.  \\n\\nClimbing out the gutter, grabbing at the sky,  \\nEvery tear’s a badge, can’t tell me how to fly,  \\nThey told me I was done, but I answered with a sigh,  \\n‘Cause the phoenix in my chest ain’t ever said goodbye.  \\n\\nSo I’m kicking down the doors, breaking through the haze,  \\nEvery beat a heartbeat, in this lyrical maze,  \\nSpitting truth like a prophet, in a world that’s gone astray,  \\nI’ll keep rhyming in the storm, till the skies turn gray.\""
      ]
     },
     "execution_count": 83,
     "metadata": {},
     "output_type": "execute_result"
    }
   ],
   "source": [
    "hey_lyrics"
   ]
  },
  {
   "cell_type": "code",
   "execution_count": 84,
   "metadata": {},
   "outputs": [],
   "source": [
    "# query_embedding = model.encode(taylor_swift_fake_lyrics, convert_to_numpy=True)\n",
    "query_embedding = model.encode(hey_lyrics, convert_to_numpy=True)\n"
   ]
  },
  {
   "cell_type": "code",
   "execution_count": 85,
   "metadata": {},
   "outputs": [],
   "source": [
    "similarity_scores = model.similarity(query_embedding, artist_embeddings)[0]"
   ]
  },
  {
   "cell_type": "code",
   "execution_count": 86,
   "metadata": {},
   "outputs": [],
   "source": [
    "scores, indices = torch.topk(similarity_scores, k=5)"
   ]
  },
  {
   "cell_type": "code",
   "execution_count": 87,
   "metadata": {},
   "outputs": [
    {
     "data": {
      "text/plain": [
       "tensor([0.6904, 0.6829, 0.6686, 0.6649, 0.6636])"
      ]
     },
     "execution_count": 87,
     "metadata": {},
     "output_type": "execute_result"
    }
   ],
   "source": [
    "scores"
   ]
  },
  {
   "cell_type": "code",
   "execution_count": 88,
   "metadata": {},
   "outputs": [
    {
     "data": {
      "text/plain": [
       "tensor([ 3,  1,  7, 10,  9])"
      ]
     },
     "execution_count": 88,
     "metadata": {},
     "output_type": "execute_result"
    }
   ],
   "source": [
    "indices\n"
   ]
  },
  {
   "cell_type": "code",
   "execution_count": 89,
   "metadata": {},
   "outputs": [
    {
     "data": {
      "text/plain": [
       "'Taylor Swift'"
      ]
     },
     "execution_count": 89,
     "metadata": {},
     "output_type": "execute_result"
    }
   ],
   "source": [
    "artists_names[7]"
   ]
  },
  {
   "cell_type": "code",
   "execution_count": 53,
   "metadata": {},
   "outputs": [],
   "source": [
    "import pandas as pd\n",
    "\n",
    "df = pd.read_csv(\"../../data/generated/validation_lyrics.csv\")"
   ]
  },
  {
   "cell_type": "code",
   "execution_count": 63,
   "metadata": {},
   "outputs": [],
   "source": [
    "hey_lyrics = df.iloc[7]['lyrics']"
   ]
  },
  {
   "cell_type": "code",
   "execution_count": 75,
   "metadata": {},
   "outputs": [
    {
     "data": {
      "text/html": [
       "<div>\n",
       "<style scoped>\n",
       "    .dataframe tbody tr th:only-of-type {\n",
       "        vertical-align: middle;\n",
       "    }\n",
       "\n",
       "    .dataframe tbody tr th {\n",
       "        vertical-align: top;\n",
       "    }\n",
       "\n",
       "    .dataframe thead th {\n",
       "        text-align: right;\n",
       "    }\n",
       "</style>\n",
       "<table border=\"1\" class=\"dataframe\">\n",
       "  <thead>\n",
       "    <tr style=\"text-align: right;\">\n",
       "      <th></th>\n",
       "      <th>artist</th>\n",
       "      <th>lyrics</th>\n",
       "    </tr>\n",
       "  </thead>\n",
       "  <tbody>\n",
       "    <tr>\n",
       "      <th>0</th>\n",
       "      <td>The Beatles</td>\n",
       "      <td>In a town where the shadows play,  \\nWhispers ...</td>\n",
       "    </tr>\n",
       "    <tr>\n",
       "      <th>1</th>\n",
       "      <td>Queen</td>\n",
       "      <td>In the heart of the city, where the shadows pl...</td>\n",
       "    </tr>\n",
       "    <tr>\n",
       "      <th>2</th>\n",
       "      <td>Bob Dylan</td>\n",
       "      <td>In the shadow of the rusty train,  \\nWhere whi...</td>\n",
       "    </tr>\n",
       "    <tr>\n",
       "      <th>3</th>\n",
       "      <td>Taylor Swift</td>\n",
       "      <td>In the corner of a crowded room,  \\nYou brushe...</td>\n",
       "    </tr>\n",
       "    <tr>\n",
       "      <th>4</th>\n",
       "      <td>Ed Sheeran</td>\n",
       "      <td>In the glow of city lights, where shadows soft...</td>\n",
       "    </tr>\n",
       "    <tr>\n",
       "      <th>5</th>\n",
       "      <td>Demi Lovato</td>\n",
       "      <td>I fell down like a comet,  \\nBurned bright but...</td>\n",
       "    </tr>\n",
       "    <tr>\n",
       "      <th>6</th>\n",
       "      <td>Sia</td>\n",
       "      <td>In the shadows where the lost hearts dance,  \\...</td>\n",
       "    </tr>\n",
       "    <tr>\n",
       "      <th>7</th>\n",
       "      <td>Eminem</td>\n",
       "      <td>Yo, I’m boxed in a cage, rage like a lion,  \\n...</td>\n",
       "    </tr>\n",
       "    <tr>\n",
       "      <th>8</th>\n",
       "      <td>Johnny Cash</td>\n",
       "      <td>In the shadows of the evening, where the lonel...</td>\n",
       "    </tr>\n",
       "    <tr>\n",
       "      <th>9</th>\n",
       "      <td>Lady Gaga</td>\n",
       "      <td>In the neon glow, where the shadows dance,  \\n...</td>\n",
       "    </tr>\n",
       "    <tr>\n",
       "      <th>10</th>\n",
       "      <td>Kanye West</td>\n",
       "      <td>Yeah, I’m building dreams on concrete skies,  ...</td>\n",
       "    </tr>\n",
       "    <tr>\n",
       "      <th>11</th>\n",
       "      <td>Prince</td>\n",
       "      <td>In the velvet glow of a neon moon,  \\nWhispers...</td>\n",
       "    </tr>\n",
       "    <tr>\n",
       "      <th>12</th>\n",
       "      <td>The Beatles</td>\n",
       "      <td>I've been walking down the avenue,  \\nLooking ...</td>\n",
       "    </tr>\n",
       "    <tr>\n",
       "      <th>13</th>\n",
       "      <td>Queen</td>\n",
       "      <td>Oh, the stars ignite, a cosmic fire in my vein...</td>\n",
       "    </tr>\n",
       "    <tr>\n",
       "      <th>14</th>\n",
       "      <td>Bob Dylan</td>\n",
       "      <td>Well, the rain hit the pavement like a drummer...</td>\n",
       "    </tr>\n",
       "    <tr>\n",
       "      <th>15</th>\n",
       "      <td>Taylor Swift</td>\n",
       "      <td>I saw your car pull up too fast  \\nHeadlights ...</td>\n",
       "    </tr>\n",
       "    <tr>\n",
       "      <th>16</th>\n",
       "      <td>Ed Sheeran</td>\n",
       "      <td>I still remember the way that you laughed  \\nS...</td>\n",
       "    </tr>\n",
       "    <tr>\n",
       "      <th>17</th>\n",
       "      <td>Demi Lovato</td>\n",
       "      <td>I’ve been running in circles, chasing my past ...</td>\n",
       "    </tr>\n",
       "    <tr>\n",
       "      <th>18</th>\n",
       "      <td>Sia</td>\n",
       "      <td>Verse 1:  \\nMidnight sky, I'm running fast,  \\...</td>\n",
       "    </tr>\n",
       "    <tr>\n",
       "      <th>19</th>\n",
       "      <td>Eminem</td>\n",
       "      <td>Yo, I been awake since last June, veins full o...</td>\n",
       "    </tr>\n",
       "    <tr>\n",
       "      <th>20</th>\n",
       "      <td>Johnny Cash</td>\n",
       "      <td>I woke up with the sun, but the sun don’t shin...</td>\n",
       "    </tr>\n",
       "    <tr>\n",
       "      <th>21</th>\n",
       "      <td>Lady Gaga</td>\n",
       "      <td>Neon lights are burning bright, midnight calls...</td>\n",
       "    </tr>\n",
       "    <tr>\n",
       "      <th>22</th>\n",
       "      <td>Kanye West</td>\n",
       "      <td>Uh, woke up feelin’ like a champion  \\nGold th...</td>\n",
       "    </tr>\n",
       "    <tr>\n",
       "      <th>23</th>\n",
       "      <td>Prince</td>\n",
       "      <td>Ooh, silk and smoke in the midnight air  \\nCan...</td>\n",
       "    </tr>\n",
       "  </tbody>\n",
       "</table>\n",
       "</div>"
      ],
      "text/plain": [
       "          artist                                             lyrics\n",
       "0    The Beatles  In a town where the shadows play,  \\nWhispers ...\n",
       "1          Queen  In the heart of the city, where the shadows pl...\n",
       "2      Bob Dylan  In the shadow of the rusty train,  \\nWhere whi...\n",
       "3   Taylor Swift  In the corner of a crowded room,  \\nYou brushe...\n",
       "4     Ed Sheeran  In the glow of city lights, where shadows soft...\n",
       "5    Demi Lovato  I fell down like a comet,  \\nBurned bright but...\n",
       "6            Sia  In the shadows where the lost hearts dance,  \\...\n",
       "7         Eminem  Yo, I’m boxed in a cage, rage like a lion,  \\n...\n",
       "8    Johnny Cash  In the shadows of the evening, where the lonel...\n",
       "9      Lady Gaga  In the neon glow, where the shadows dance,  \\n...\n",
       "10    Kanye West  Yeah, I’m building dreams on concrete skies,  ...\n",
       "11        Prince  In the velvet glow of a neon moon,  \\nWhispers...\n",
       "12   The Beatles  I've been walking down the avenue,  \\nLooking ...\n",
       "13         Queen  Oh, the stars ignite, a cosmic fire in my vein...\n",
       "14     Bob Dylan  Well, the rain hit the pavement like a drummer...\n",
       "15  Taylor Swift  I saw your car pull up too fast  \\nHeadlights ...\n",
       "16    Ed Sheeran  I still remember the way that you laughed  \\nS...\n",
       "17   Demi Lovato  I’ve been running in circles, chasing my past ...\n",
       "18           Sia  Verse 1:  \\nMidnight sky, I'm running fast,  \\...\n",
       "19        Eminem  Yo, I been awake since last June, veins full o...\n",
       "20   Johnny Cash  I woke up with the sun, but the sun don’t shin...\n",
       "21     Lady Gaga  Neon lights are burning bright, midnight calls...\n",
       "22    Kanye West  Uh, woke up feelin’ like a champion  \\nGold th...\n",
       "23        Prince  Ooh, silk and smoke in the midnight air  \\nCan..."
      ]
     },
     "execution_count": 75,
     "metadata": {},
     "output_type": "execute_result"
    }
   ],
   "source": [
    "df"
   ]
  },
  {
   "cell_type": "code",
   "execution_count": null,
   "metadata": {},
   "outputs": [],
   "source": []
  }
 ],
 "metadata": {
  "kernelspec": {
   "display_name": "venv",
   "language": "python",
   "name": "python3"
  },
  "language_info": {
   "codemirror_mode": {
    "name": "ipython",
    "version": 3
   },
   "file_extension": ".py",
   "mimetype": "text/x-python",
   "name": "python",
   "nbconvert_exporter": "python",
   "pygments_lexer": "ipython3",
   "version": "3.11.0"
  }
 },
 "nbformat": 4,
 "nbformat_minor": 2
}
