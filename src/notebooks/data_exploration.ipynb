{
 "cells": [
  {
   "cell_type": "markdown",
   "metadata": {},
   "source": [
    "# Song Lyrics Data Exploration\n",
    "\n",
    "This notebook explores the raw song lyrics dataset and performs initial data preprocessing steps.\n",
    "\n",
    "## Data Overview\n",
    "The dataset contains song lyrics with the following features:\n",
    "- title: Song title\n",
    "- tag: Genre/category tag\n",
    "- artist: Song artist\n",
    "- year: Release year\n",
    "- views: Number of views\n",
    "- features: Collaborating artists\n",
    "- lyrics: Song lyrics text\n",
    "- language: Detected language of lyrics\n",
    "- id: Unique identifier for each song (belongs to the Genius platform)"
   ]
  },
  {
   "cell_type": "markdown",
   "metadata": {},
   "source": [
    "## Setup\n",
    "Import required libraries"
   ]
  },
  {
   "cell_type": "code",
   "execution_count": 2,
   "metadata": {},
   "outputs": [],
   "source": [
    "import pandas as pd"
   ]
  },
  {
   "cell_type": "markdown",
   "metadata": {},
   "source": [
    "## Load Raw Data"
   ]
  },
  {
   "cell_type": "code",
   "execution_count": 2,
   "metadata": {},
   "outputs": [],
   "source": [
    "raw_data = pd.read_csv(\"../../data/raw/song_lyrics.csv\")"
   ]
  },
  {
   "cell_type": "markdown",
   "metadata": {},
   "source": [
    "## Initial Data Inspection\n",
    "Let's look at the first few rows of our dataset"
   ]
  },
  {
   "cell_type": "code",
   "execution_count": 3,
   "metadata": {},
   "outputs": [],
   "source": [
    "raw_data.head(5)"
   ]
  },
  {
   "cell_type": "markdown",
   "metadata": {},
   "source": [
    "## Filter English Lyrics\n",
    "Extract only English language songs for our analysis"
   ]
  },
  {
   "cell_type": "code",
   "execution_count": 4,
   "metadata": {},
   "outputs": [],
   "source": [
    "english_lyrics = raw_data[raw_data[\"language\"] == \"en\"]\n",
    "english_lyrics.head(5)"
   ]
  },
  {
   "cell_type": "markdown",
   "metadata": {},
   "source": [
    "## Data Statistics\n",
    "Calculate basic statistics about the dataset"
   ]
  },
  {
   "cell_type": "code",
   "execution_count": 5,
   "metadata": {},
   "outputs": [],
   "source": [
    "print('English lyrics: ', len(english_lyrics))\n",
    "print('Total lyrics: ', len(raw_data))\n",
    "\n",
    "# save the english lyrics to a csv file\n",
    "english_lyrics.to_csv(\"../../data/interim/english_lyrics.csv\", index=False)"
   ]
  },
  {
   "cell_type": "markdown",
   "metadata": {},
   "source": [
    "## Load Preprocessed Data\n",
    "Load the saved English lyrics for further analysis"
   ]
  },
  {
   "cell_type": "code",
   "execution_count": 3,
   "metadata": {},
   "outputs": [],
   "source": [
    "english_lyrics = pd.read_csv(\"../../data/interim/english_lyrics.csv\")"
   ]
  },
  {
   "cell_type": "markdown",
   "metadata": {},
   "source": [
    "## Dataset Composition Analysis"
   ]
  },
  {
   "cell_type": "code",
   "execution_count": 6,
   "metadata": {},
   "outputs": [],
   "source": [
    "# ratio of english lyrics\n",
    "print('Ratio of english lyrics: ', len(english_lyrics) / len(raw_data))"
   ]
  },
  {
   "cell_type": "markdown",
   "metadata": {},
   "source": [
    "## Artist and Collaboration Analysis\n",
    "Analyze the distribution of artists and collaborations in the dataset"
   ]
  },
  {
   "cell_type": "code",
   "execution_count": 4,
   "metadata": {},
   "outputs": [],
   "source": [
    "# count the number of unique artists\n",
    "artist_counts = english_lyrics[\"artist\"].value_counts()\n",
    "print(\"artists: \", artist_counts)\n",
    "\n",
    "# count the number of featured collaborators\n",
    "featured_collaborators = english_lyrics[\"features\"].value_counts()\n",
    "print(\"featured collaborators: \", featured_collaborators)"
   ]
  },
  {
   "cell_type": "markdown",
   "metadata": {},
   "source": [
    "## Filter Solo Songs\n",
    "Remove songs with featured artists to focus on solo performances"
   ]
  },
  {
   "cell_type": "code",
   "execution_count": 5,
   "metadata": {},
   "outputs": [],
   "source": [
    "# remove rows where features is not {}\n",
    "english_lyrics = english_lyrics[english_lyrics[\"features\"] == \"{}\"]\n",
    "\n",
    "print('Number of rows after removing rows where features is not {}', len(english_lyrics))"
   ]
  },
  {
   "cell_type": "markdown",
   "metadata": {},
   "source": [
    "## Data Cleanup\n",
    "Remove unnecessary columns and clean the data"
   ]
  },
  {
   "cell_type": "code",
   "execution_count": 6,
   "metadata": {},
   "outputs": [],
   "source": [
    "columns_to_drop = [\n",
    "    \"views\",\n",
    "    \"features\",\n",
    "    \"language\",\n",
    "    \"language_cld3\",\n",
    "    \"language_ft\",\n",
    "    \"id\",\n",
    "    \"year\",\n",
    "]\n",
    "\n",
    "english_lyrics = english_lyrics.drop(columns=columns_to_drop)"
   ]
  },
  {
   "cell_type": "markdown",
   "metadata": {},
   "source": [
    "## Lyrics Text Cleaning\n",
    "Clean the lyrics text by removing section markers and formatting"
   ]
  },
  {
   "cell_type": "code",
   "execution_count": 7,
   "metadata": {},
   "outputs": [],
   "source": [
    "import re\n",
    "\n",
    "def clean_lyrics(lyrics):\n",
    "    # Remove section tags like [Intro], [Verse 1], etc.\n",
    "    cleaned = re.sub(r\"\\[.*?\\]\", \"\", lyrics)\n",
    "\n",
    "    # Remove credits or text after \"---\"\n",
    "    cleaned = re.split(r\"---\", cleaned)[0]\n",
    "\n",
    "    # Remove symbols except for line breaks (\\n) and alphanumeric characters\n",
    "    cleaned = re.sub(r\"[^\\w\\s\\n]\", \"\", cleaned)\n",
    "\n",
    "    # Remove extra whitespace and blank lines\n",
    "    cleaned = re.sub(r\"\\n\\s*\\n\", \"\\n\", cleaned).strip()\n",
    "\n",
    "    return cleaned\n",
    "\n",
    "# Apply the cleaning function\n",
    "english_lyrics[\"lyrics\"] = english_lyrics[\"lyrics\"].apply(clean_lyrics)"
   ]
  },
  {
   "cell_type": "markdown",
   "metadata": {},
   "source": [
    "## Save Processed Data\n",
    "Save the cleaned and processed dataset"
   ]
  },
  {
   "cell_type": "code",
   "execution_count": null,
   "metadata": {},
   "outputs": [],
   "source": [
    "# save the cleaned english lyrics to a csv file\n",
    "english_lyrics.to_csv(\"../../data/processed/english_lyrics_cleaned.csv\", index=False)"
   ]
  }
 ],
 "metadata": {
  "kernelspec": {
   "display_name": "venv",
   "language": "python",
   "name": "python3"
  },
  "language_info": {
   "codemirror_mode": {
    "name": "ipython",
    "version": 3
   },
   "file_extension": ".py",
   "mimetype": "text/x-python",
   "name": "python",
   "nbconvert_exporter": "python",
   "pygments_lexer": "ipython3",
   "version": "3.11.0"
  }
 },
 "nbformat": 4,
 "nbformat_minor": 2
}
